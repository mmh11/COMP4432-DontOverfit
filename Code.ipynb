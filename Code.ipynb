{
  "nbformat": 4,
  "nbformat_minor": 0,
  "metadata": {
    "colab": {
      "provenance": []
    },
    "kernelspec": {
      "name": "python3",
      "display_name": "Python 3"
    },
    "language_info": {
      "name": "python"
    }
  },
  "cells": [
    {
      "cell_type": "markdown",
      "source": [
        "Notice that all .to_csv command has been commented."
      ],
      "metadata": {
        "id": "twr3WBKt-s6s"
      }
    },
    {
      "cell_type": "code",
      "execution_count": null,
      "metadata": {
        "id": "PDc1VVFWpNYB"
      },
      "outputs": [],
      "source": [
        "import numpy as np\n",
        "import matplotlib.pyplot as plt\n",
        "import pandas as pd\n",
        "from sklearn import preprocessing\n",
        "from sklearn.linear_model import LogisticRegression, LogisticRegressionCV\n",
        "from sklearn.ensemble import RandomForestClassifier, AdaBoostClassifier, VotingClassifier\n",
        "from sklearn.tree import DecisionTreeClassifier\n",
        "from xgboost import XGBClassifier\n",
        "from sklearn.svm import SVC\n",
        "# import dataset\n",
        "train_DF = pd.read_csv(\"train.csv\")\n",
        "test_DF = pd.read_csv(\"test.csv\")"
      ]
    },
    {
      "cell_type": "code",
      "source": [
        "# Overview\n",
        "train_Overview = train_DF.drop(\"id\" ,axis= 1).drop(\"target\" ,axis= 1)\n",
        "test_Overview = test_DF.drop(\"id\" ,axis= 1)\n",
        "instances_train = train_Overview.shape[0]\n",
        "instances_test = test_Overview.shape[0]\n",
        "features_train = train_Overview.shape[1]\n",
        "features_test = test_Overview.shape[1]\n",
        "print(\"Data Overview of the train data:\")\n",
        "print(\"Number of instances:\",instances_train)\n",
        "print(\"Number of features:\",features_train)\n",
        "print(\"Data Overview of the test data:\")\n",
        "print(\"Number of instances:\",instances_test)\n",
        "print(\"Number of features:\",features_test)"
      ],
      "metadata": {
        "colab": {
          "base_uri": "https://localhost:8080/"
        },
        "id": "V-mvn_X3KHCA",
        "outputId": "fe79b0a2-87a7-4e8b-fde7-8941e1c6b0ea"
      },
      "execution_count": null,
      "outputs": [
        {
          "output_type": "stream",
          "name": "stdout",
          "text": [
            "Data Overview of the train data:\n",
            "Number of instances: 250\n",
            "Number of features: 300\n",
            "Data Overview of the test data:\n",
            "Number of instances: 19750\n",
            "Number of features: 300\n"
          ]
        }
      ]
    },
    {
      "cell_type": "code",
      "source": [
        "# Correlation & Feature Reduction\n",
        "train_Corr = train_DF.drop(\"id\" ,axis= 1).corr().abs()\n",
        "upper = train_Corr.where(np.triu(np.ones(train_Corr.shape), k=1).astype(bool))\n",
        "to_keep = [column for column in upper.columns if not any(upper[column] < 0.0002)]\n",
        "print(len(to_keep))\n",
        "reduced_train_DF = train_DF[to_keep[1:]]\n",
        "reduced_test_DF = test_DF[to_keep[1:]]\n",
        "\n",
        "# Train Model\n",
        "logRegModel = LogisticRegression()\n",
        "train_Y = train_DF[\"target\"]\n",
        "train_X = reduced_train_DF\n",
        "test_X = reduced_test_DF\n",
        "\n",
        "logRegModel.fit(train_X, train_Y)\n",
        "predicted_target = logRegModel.predict(test_X)\n",
        "combined_DF = pd.DataFrame({\n",
        "    'id': test_DF[\"id\"],\n",
        "    'target': predicted_target\n",
        "}) \n",
        "#combined_DF.to_csv('submission_2.csv',index=False)"
      ],
      "metadata": {
        "colab": {
          "base_uri": "https://localhost:8080/"
        },
        "id": "D-3CY1-5tZWJ",
        "outputId": "9ba3fb76-4527-46da-e51e-f0cd8128d278"
      },
      "execution_count": null,
      "outputs": [
        {
          "output_type": "stream",
          "name": "stdout",
          "text": [
            "216\n"
          ]
        }
      ]
    },
    {
      "cell_type": "code",
      "source": [
        "# Regularization\n",
        "train_X = train_DF.drop(\"id\" ,axis= 1).drop(\"target\" ,axis= 1)\n",
        "train_Y = train_DF[\"target\"]\n",
        "test_X = test_DF.drop(\"id\" ,axis= 1)\n",
        "\n",
        "logRegModel_L1 = LogisticRegression(penalty=\"l1\", C=1, solver='liblinear')\n",
        "logRegModel_L2 = LogisticRegression(penalty=\"l2\", C=1)\n",
        "\n",
        "logRegModel_L1.fit(train_X, train_Y)\n",
        "logRegModel_L2.fit(train_X, train_Y)\n",
        "\n",
        "predicted_target_L1 = logRegModel_L1.predict(test_X)\n",
        "predicted_target_L2 = logRegModel_L2.predict(test_X)\n",
        "\n",
        "L1_DF = pd.DataFrame({\n",
        "    'id': test_DF[\"id\"],\n",
        "    'target': predicted_target_L1\n",
        "})\n",
        "\n",
        "L2_DF = pd.DataFrame({\n",
        "    'id': test_DF[\"id\"],\n",
        "    'target': predicted_target_L2\n",
        "})\n",
        "\n",
        "#L1_DF.to_csv('submission_L1.csv',index=False)\n",
        "#L2_DF.to_csv('submission_L2.csv',index=False)"
      ],
      "metadata": {
        "id": "OhWSgeMMdZva"
      },
      "execution_count": null,
      "outputs": []
    },
    {
      "cell_type": "code",
      "source": [
        "# Cross Validation\n",
        "train_X = train_DF.drop(\"id\" ,axis= 1).drop(\"target\" ,axis= 1)\n",
        "train_Y = train_DF[\"target\"]\n",
        "test_X = test_DF.drop(\"id\" ,axis= 1)\n",
        "logRegCVModel = LogisticRegressionCV(cv=5, penalty=\"l1\", solver='liblinear')\n",
        "logRegCVModel.fit(train_X, train_Y)\n",
        "\n",
        "predicted_target_CV = logRegCVModel.predict(test_X)\n",
        "\n",
        "CV_DF = pd.DataFrame({\n",
        "    'id': test_DF[\"id\"],\n",
        "    'target': predicted_target_CV\n",
        "})\n",
        "\n",
        "#CV_DF.to_csv('submission_LR4CV.csv',index=False)"
      ],
      "metadata": {
        "id": "j84wIGudhaxS"
      },
      "execution_count": null,
      "outputs": []
    },
    {
      "cell_type": "code",
      "source": [
        "# Ensemble Methods\n",
        "train_X = train_DF.drop(\"id\" ,axis= 1).drop(\"target\" ,axis= 1)\n",
        "train_Y = train_DF[\"target\"]\n",
        "test_X = test_DF.drop(\"id\" ,axis= 1)\n",
        "\n",
        "# Random Forest Classifier\n",
        "RanForModel = RandomForestClassifier(n_estimators=20)\n",
        "RanForModel.fit(train_X,train_Y)\n",
        "predicted_target_RanFor = RanForModel.predict(test_X)\n",
        "\n",
        "RanFor_DF = pd.DataFrame({\n",
        "    'id': test_DF[\"id\"],\n",
        "    'target': predicted_target_RanFor\n",
        "})\n",
        "#RanFor_DF.to_csv('submission_RanFor.csv',index=False)\n",
        "\n",
        "# XGBoost\n",
        "XGBoostModel = XGBClassifier()\n",
        "XGBoostModel.fit(train_X,train_Y)\n",
        "predicted_target_XGBoost = XGBoostModel.predict(test_X)\n",
        "XGBoost_DF = pd.DataFrame({\n",
        "    'id': test_DF[\"id\"],\n",
        "    'target': predicted_target_XGBoost\n",
        "})\n",
        "#XGBoost_DF.to_csv('submission_XGB.csv',index=False)\n",
        "\n",
        "# AdaBoost\n",
        "AdaBoostModel = AdaBoostClassifier(DecisionTreeClassifier(), n_estimators=20)\n",
        "AdaBoostModel.fit(train_X,train_Y)\n",
        "predicted_target_AdaBoost = AdaBoostModel.predict(test_X)\n",
        "\n",
        "AdaBoost_DF = pd.DataFrame({\n",
        "    'id': test_DF[\"id\"],\n",
        "    'target': predicted_target_AdaBoost\n",
        "})\n",
        "#AdaBoost_DF.to_csv('submission_AdaBoost.csv',index=False)\n",
        "\n",
        "# Voting\n",
        "# Reference: https://www.youtube.com/watch?v=X3Wbfb4M33w\n",
        "LogRegModel_Vot = LogisticRegression()\n",
        "DecTreModel_Vot = DecisionTreeClassifier()\n",
        "SVMModel_Vot = SVC(kernel = 'poly', degree=2)\n",
        "VotingModel = VotingClassifier(\n",
        "    voting = 'hard',\n",
        "    estimators=[\n",
        "        ('lr',LogRegModel_Vot),\n",
        "        ('dt',DecTreModel_Vot),\n",
        "        ('svm',SVMModel_Vot)\n",
        "    ])\n",
        "VotingModel.fit(train_X,train_Y)\n",
        "predicted_target_Voting = VotingModel.predict(test_X)\n",
        "Voting_DF = pd.DataFrame({\n",
        "    'id': test_DF[\"id\"],\n",
        "    'target': predicted_target_Voting\n",
        "})\n",
        "#Voting_DF.to_csv('submission_Voting.csv',index=False)"
      ],
      "metadata": {
        "id": "z2oP7j7SrrMA"
      },
      "execution_count": null,
      "outputs": []
    },
    {
      "cell_type": "code",
      "source": [
        "# Improvement and tunning\n",
        "train_X = train_DF.drop(\"id\" ,axis= 1).drop(\"target\" ,axis= 1)\n",
        "train_Y = train_DF[\"target\"]\n",
        "test_X = test_DF.drop(\"id\" ,axis= 1)\n",
        "\n",
        "logRegModel_Tun = LogisticRegression(penalty=\"l1\", C=0.1, solver='liblinear')\n",
        "logRegModel_Tun.fit(train_X, train_Y)\n",
        "predicted_target_Tun = logRegModel_Tun.predict(test_X)\n",
        "\n",
        "LR_DF = pd.DataFrame({\n",
        "    'id': test_DF[\"id\"],\n",
        "    'target': predicted_target_Tun\n",
        "})\n",
        "#LR_DF.to_csv('submission_LRTUN.csv',index=False)\n",
        "\n",
        "\n",
        "logRegModelCV_Tun = LogisticRegressionCV(penalty='l1',Cs=[0.95, 0.1, 0.15, 0.2, 0.25, 0.3], cv=5, solver='liblinear')\n",
        "logRegModelCV_Tun.fit(train_X, train_Y)\n",
        "predicted_target_CVTun = logRegModelCV_Tun.predict(test_X)\n",
        "\n",
        "LRCV_DF = pd.DataFrame({\n",
        "    'id': test_DF[\"id\"],\n",
        "    'target': predicted_target_CVTun\n",
        "})\n",
        "#LRCV_DF.to_csv('submission_LRCVTUN.csv',index=False)"
      ],
      "metadata": {
        "id": "MMTOBWNb2qnn"
      },
      "execution_count": null,
      "outputs": []
    }
  ]
}